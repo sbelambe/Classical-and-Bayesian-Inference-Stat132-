{
  "cells": [
    {
      "cell_type": "markdown",
      "metadata": {
        "id": "Yy9Kjc2xwvSP"
      },
      "source": [
        "#inverse t distribution"
      ]
    },
    {
      "cell_type": "code",
      "execution_count": 7,
      "metadata": {
        "colab": {
          "base_uri": "https://localhost:8080/"
        },
        "id": "EHVa0tF-lCW6",
        "outputId": "2fb1c070-ba59-45f5-eece-347e93a27c66"
      },
      "outputs": [
        {
          "ename": "ModuleNotFoundError",
          "evalue": "No module named 'scipy'",
          "output_type": "error",
          "traceback": [
            "\u001b[0;31m---------------------------------------------------------------------------\u001b[0m",
            "\u001b[0;31mModuleNotFoundError\u001b[0m                       Traceback (most recent call last)",
            "Cell \u001b[0;32mIn[7], line 2\u001b[0m\n\u001b[1;32m      1\u001b[0m \u001b[38;5;28;01mimport\u001b[39;00m \u001b[38;5;21;01mnumpy\u001b[39;00m\n\u001b[0;32m----> 2\u001b[0m \u001b[38;5;28;01mimport\u001b[39;00m \u001b[38;5;21;01mscipy\u001b[39;00m\u001b[38;5;21;01m.\u001b[39;00m\u001b[38;5;21;01mstats\u001b[39;00m \u001b[38;5;28;01mas\u001b[39;00m \u001b[38;5;21;01mstats\u001b[39;00m\n\u001b[1;32m      4\u001b[0m gamma \u001b[38;5;241m=\u001b[39m \u001b[38;5;241m0.99\u001b[39m\n\u001b[1;32m      5\u001b[0m n \u001b[38;5;241m=\u001b[39m \u001b[38;5;241m8\u001b[39m\n",
            "\u001b[0;31mModuleNotFoundError\u001b[0m: No module named 'scipy'"
          ]
        }
      ],
      "source": [
        "import numpy\n",
        "import scipy.stats as stats\n",
        "\n",
        "gamma = 0.99\n",
        "n = 8\n",
        "\n",
        "# Specify the probability and degrees of freedom\n",
        "probability = (1+gamma)/2  # 80th percentile, which corresponds to 4th quantile\n",
        "degrees_of_freedom = n-1  # Example degrees of freedom\n",
        "\n",
        "# Calculate the inverse t-distribution value\n",
        "t_inverse_value = stats.t.ppf(probability, degrees_of_freedom)\n",
        "\n",
        "print(t_inverse_value)\n"
      ]
    },
    {
      "cell_type": "code",
      "execution_count": null,
      "metadata": {
        "colab": {
          "base_uri": "https://localhost:8080/"
        },
        "id": "XuzD2K6nt3km",
        "outputId": "e8abf05a-f0cf-4a06-e28f-9c853658412b"
      },
      "outputs": [
        {
          "name": "stdout",
          "output_type": "stream",
          "text": [
            "6.123191674217573\n"
          ]
        }
      ],
      "source": [
        "answer = 4/n * pow(t_inverse_value, 2)\n",
        "print(answer)"
      ]
    },
    {
      "cell_type": "markdown",
      "metadata": {
        "id": "Z97sFEctwzOa"
      },
      "source": [
        "#inverse CDF (inverse phi)"
      ]
    },
    {
      "cell_type": "code",
      "execution_count": null,
      "metadata": {
        "colab": {
          "base_uri": "https://localhost:8080/"
        },
        "id": "vVuPNmK-w30H",
        "outputId": "6a9c5f3f-367f-4959-96c2-d82605bb7ba9"
      },
      "outputs": [
        {
          "name": "stdout",
          "output_type": "stream",
          "text": [
            "The z-value for a 95.0% confidence level is: 1.959963984540054\n"
          ]
        }
      ],
      "source": [
        "import scipy.stats as stats\n",
        "\n",
        "def find_phi_inverse(confidence_level):\n",
        "    # Calculate the one-tailed probability for the given confidence level\n",
        "    alpha = 1 - confidence_level\n",
        "    one_tailed_probability = 1 - alpha / 2\n",
        "\n",
        "    # Calculate the inverse CDF (z-value) using the scipy.stats.norm.ppf function\n",
        "    z_value = stats.norm.ppf(one_tailed_probability)\n",
        "\n",
        "    return z_value\n",
        "\n",
        "# Example usage\n",
        "if __name__ == \"__main__\":\n",
        "    confidence_level = 0.95  # 95% confidence level\n",
        "    z_value = find_phi_inverse(confidence_level)\n",
        "    print(f\"The z-value for a {confidence_level*100}% confidence level is: {z_value}\")\n"
      ]
    },
    {
      "cell_type": "markdown",
      "metadata": {
        "id": "cMk83O3FmWSM"
      },
      "source": [
        "standard deviation"
      ]
    },
    {
      "cell_type": "code",
      "execution_count": null,
      "metadata": {
        "colab": {
          "base_uri": "https://localhost:8080/"
        },
        "id": "Q6QbB9VSmXrz",
        "outputId": "6744f21d-a975-4b63-b177-74a6d5d6c248"
      },
      "outputs": [
        {
          "name": "stdout",
          "output_type": "stream",
          "text": [
            "sample mean:  1.379\n",
            "standard deviation 0.3276668362156225\n",
            "t test:  1.7275098929989061\n",
            "p-value 0.05907291297396955\n"
          ]
        }
      ],
      "source": [
        "import math\n",
        "import scipy.stats as stats\n",
        "\n",
        "h = 1.2\n",
        "samples = [0.86, 1.53, 1.57, 1.81, 0.99, 1.09, 1.29, 1.78, 1.29, 1.58]\n",
        "sample_mean = 0\n",
        "for i in samples:\n",
        "    sample_mean += i\n",
        "sample_mean /= len(samples)\n",
        "\n",
        "sum_of_squares = 0\n",
        "for i in samples:\n",
        "    sum_of_squares += pow(i-sample_mean, 2)\n",
        "\n",
        "#standard deviation\n",
        "s = math.sqrt(sum_of_squares/(len(samples)-1))\n",
        "\n",
        "t = (sample_mean - h) / (s/math.sqrt(len(samples)))\n",
        "\n",
        "p_value = 1 - stats.t.cdf(t, len(samples)-1)\n",
        "\n",
        "print(\"sample mean: \", sample_mean)\n",
        "print(\"standard deviation\", s)\n",
        "print(\"t test: \", t)\n",
        "print(\"p-value\", p_value)\n"
      ]
    },
    {
      "cell_type": "code",
      "execution_count": null,
      "metadata": {
        "colab": {
          "base_uri": "https://localhost:8080/"
        },
        "id": "09zsl3rSNTHN",
        "outputId": "16ab174e-feef-40f0-db12-1b6ee02c2c66"
      },
      "outputs": [
        {
          "name": "stdout",
          "output_type": "stream",
          "text": [
            "p-value:  0.09480315204473155\n"
          ]
        }
      ],
      "source": [
        "#p-value for one-tailed\n",
        "\n",
        "#p_value = 1 - stats.t.cdf(t/U test statistic, df-1)\n",
        "p_value = 1 - stats.t.cdf(1.37, 16)\n",
        "print(\"p-value: \", p_value)"
      ]
    },
    {
      "cell_type": "code",
      "execution_count": null,
      "metadata": {
        "colab": {
          "base_uri": "https://localhost:8080/"
        },
        "id": "55JROXDFXpy8",
        "outputId": "711a6460-03d2-4ba7-d6ef-35d3d804d9be"
      },
      "outputs": [
        {
          "name": "stdout",
          "output_type": "stream",
          "text": [
            "p-value:  0.11603824329028645\n"
          ]
        }
      ],
      "source": [
        "#p-value for two-tailed\n",
        "\n",
        "#p_value = 2* (1 - stats.t.cdf(t/U test statistic, df-1))\n",
        "p_value = 2* (1 - stats.t.cdf(1.694, 12))\n",
        "print(\"p-value: \", p_value)"
      ]
    },
    {
      "cell_type": "code",
      "execution_count": null,
      "metadata": {
        "colab": {
          "base_uri": "https://localhost:8080/"
        },
        "id": "Ih5JExxPcrwE",
        "outputId": "31130dcd-e64f-4753-fc0c-debb8222372f"
      },
      "outputs": [
        {
          "name": "stdout",
          "output_type": "stream",
          "text": [
            "A: \n",
            "sample mean:  1.5125\n",
            "sample variance 0.025821428571428582\n",
            "B: \n",
            "sample mean:  1.6683333333333332\n",
            "sample variance 0.03353666666666669\n",
            "\n",
            "pooled variance:  0.029036111111111124\n",
            "t statistic:  1.693353916352362\n",
            "p-value 0.05808179675220204\n"
          ]
        }
      ],
      "source": [
        "import math\n",
        "import scipy.stats as stats\n",
        "\n",
        "#one-tailed test\n",
        "\n",
        "samples_A = [1.23, 1.42, 1.41, 1.62, 1.55, 1.51, 1.60, 1.76]\n",
        "samples_B = [1.76, 1.41, 1.87, 1.49, 1.67, 1.81]\n",
        "\n",
        "sample_mean_A = 0\n",
        "sample_mean_B = 0\n",
        "for i in samples_A:\n",
        "    sample_mean_A += i\n",
        "sample_mean_A /= len(samples_A)\n",
        "\n",
        "for i in samples_B:\n",
        "    sample_mean_B += i\n",
        "sample_mean_B /= len(samples_B)\n",
        "\n",
        "sum_of_squares_A = 0\n",
        "for i in samples_A:\n",
        "    sum_of_squares_A += pow(i-sample_mean_A, 2)\n",
        "\n",
        "sum_of_squares_B = 0\n",
        "for i in samples_B:\n",
        "    sum_of_squares_B += pow(i-sample_mean_B, 2)\n",
        "\n",
        "#square variances\n",
        "s_square_A = sum_of_squares_A/(len(samples_A)-1)\n",
        "s_square_B = sum_of_squares_B/(len(samples_B)-1)\n",
        "\n",
        "#pooled variance\n",
        "pooled_variance = ((len(samples_A)-1)*s_square_A + (len(samples_B)-1)*s_square_B) / (len(samples_A) + len(samples_B) - 2)\n",
        "\n",
        "t = (sample_mean_B - sample_mean_A) / (math.sqrt(pooled_variance) * math.sqrt(1/len(samples_A) + 1/len(samples_B)))\n",
        "\n",
        "df = len(samples_A) + len(samples_B) - 2\n",
        "p_value = 1 - stats.t.cdf(t, df)\n",
        "\n",
        "print(\"A: \")\n",
        "print(\"sample mean: \", sample_mean_A)\n",
        "print(\"sample variance\", s_square_A)\n",
        "\n",
        "\n",
        "print(\"B: \")\n",
        "print(\"sample mean: \", sample_mean_B)\n",
        "print(\"sample variance\", s_square_B)\n",
        "\n",
        "print()\n",
        "\n",
        "print(\"pooled variance: \", pooled_variance)\n",
        "print(\"t statistic: \", t)\n",
        "print(\"p-value\", p_value)\n"
      ]
    }
  ],
  "metadata": {
    "colab": {
      "provenance": []
    },
    "kernelspec": {
      "display_name": "Python 3",
      "name": "python3"
    },
    "language_info": {
      "codemirror_mode": {
        "name": "ipython",
        "version": 3
      },
      "file_extension": ".py",
      "mimetype": "text/x-python",
      "name": "python",
      "nbconvert_exporter": "python",
      "pygments_lexer": "ipython3",
      "version": "3.9.6"
    }
  },
  "nbformat": 4,
  "nbformat_minor": 0
}
