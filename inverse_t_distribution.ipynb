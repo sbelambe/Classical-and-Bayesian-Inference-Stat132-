{
  "nbformat": 4,
  "nbformat_minor": 0,
  "metadata": {
    "colab": {
      "provenance": [],
      "authorship_tag": "ABX9TyOqEk4XxntoH1LfqWIbtRHv",
      "include_colab_link": true
    },
    "kernelspec": {
      "name": "python3",
      "display_name": "Python 3"
    },
    "language_info": {
      "name": "python"
    }
  },
  "cells": [
    {
      "cell_type": "markdown",
      "metadata": {
        "id": "view-in-github",
        "colab_type": "text"
      },
      "source": [
        "<a href=\"https://colab.research.google.com/github/sbelambe/Classical-and-Bayesian-Inference-Stat132-/blob/main/inverse_t_distribution.ipynb\" target=\"_parent\"><img src=\"https://colab.research.google.com/assets/colab-badge.svg\" alt=\"Open In Colab\"/></a>"
      ]
    },
    {
      "cell_type": "markdown",
      "source": [
        "#inverse t distribution"
      ],
      "metadata": {
        "id": "Yy9Kjc2xwvSP"
      }
    },
    {
      "cell_type": "code",
      "execution_count": null,
      "metadata": {
        "colab": {
          "base_uri": "https://localhost:8080/"
        },
        "id": "EHVa0tF-lCW6",
        "outputId": "2fb1c070-ba59-45f5-eece-347e93a27c66"
      },
      "outputs": [
        {
          "output_type": "stream",
          "name": "stdout",
          "text": [
            "3.4994832973505026\n"
          ]
        }
      ],
      "source": [
        "import scipy.stats as stats\n",
        "\n",
        "gamma = 0.99\n",
        "n = 8\n",
        "\n",
        "# Specify the probability and degrees of freedom\n",
        "probability = (1+gamma)/2  # 80th percentile, which corresponds to 4th quantile\n",
        "degrees_of_freedom = n-1  # Example degrees of freedom\n",
        "\n",
        "# Calculate the inverse t-distribution value\n",
        "t_inverse_value = stats.t.ppf(probability, degrees_of_freedom)\n",
        "\n",
        "print(t_inverse_value)\n"
      ]
    },
    {
      "cell_type": "code",
      "source": [
        "answer = 4/n * pow(t_inverse_value, 2)\n",
        "print(answer)"
      ],
      "metadata": {
        "colab": {
          "base_uri": "https://localhost:8080/"
        },
        "id": "XuzD2K6nt3km",
        "outputId": "e8abf05a-f0cf-4a06-e28f-9c853658412b"
      },
      "execution_count": null,
      "outputs": [
        {
          "output_type": "stream",
          "name": "stdout",
          "text": [
            "6.123191674217573\n"
          ]
        }
      ]
    },
    {
      "cell_type": "markdown",
      "source": [
        "#inverse CDF (inverse phi)"
      ],
      "metadata": {
        "id": "Z97sFEctwzOa"
      }
    },
    {
      "cell_type": "code",
      "source": [
        "import scipy.stats as stats\n",
        "\n",
        "def find_phi_inverse(confidence_level):\n",
        "    # Calculate the one-tailed probability for the given confidence level\n",
        "    alpha = 1 - confidence_level\n",
        "    one_tailed_probability = 1 - alpha / 2\n",
        "\n",
        "    # Calculate the inverse CDF (z-value) using the scipy.stats.norm.ppf function\n",
        "    z_value = stats.norm.ppf(one_tailed_probability)\n",
        "\n",
        "    return z_value\n",
        "\n",
        "# Example usage\n",
        "if __name__ == \"__main__\":\n",
        "    confidence_level = 0.95  # 95% confidence level\n",
        "    z_value = find_phi_inverse(confidence_level)\n",
        "    print(f\"The z-value for a {confidence_level*100}% confidence level is: {z_value}\")\n"
      ],
      "metadata": {
        "id": "vVuPNmK-w30H",
        "outputId": "6a9c5f3f-367f-4959-96c2-d82605bb7ba9",
        "colab": {
          "base_uri": "https://localhost:8080/"
        }
      },
      "execution_count": null,
      "outputs": [
        {
          "output_type": "stream",
          "name": "stdout",
          "text": [
            "The z-value for a 95.0% confidence level is: 1.959963984540054\n"
          ]
        }
      ]
    },
    {
      "cell_type": "markdown",
      "source": [
        "standard deviation"
      ],
      "metadata": {
        "id": "cMk83O3FmWSM"
      }
    },
    {
      "cell_type": "code",
      "source": [
        "import math\n",
        "import scipy.stats as stats\n",
        "\n",
        "h = 1.2\n",
        "samples = [0.86, 1.53, 1.57, 1.81, 0.99, 1.09, 1.29, 1.78, 1.29, 1.58]\n",
        "sample_mean = 0\n",
        "for i in samples:\n",
        "    sample_mean += i\n",
        "sample_mean /= len(samples)\n",
        "\n",
        "sum_of_squares = 0\n",
        "for i in samples:\n",
        "    sum_of_squares += pow(i-sample_mean, 2)\n",
        "\n",
        "#standard deviation\n",
        "s = math.sqrt(sum_of_squares/(len(samples)-1))\n",
        "\n",
        "t = (sample_mean - h) / (s/math.sqrt(len(samples)))\n",
        "\n",
        "p_value = 1 - stats.t.cdf(t, len(samples)-1)\n",
        "\n",
        "print(\"sample mean: \", sample_mean)\n",
        "print(\"standard deviation\", s)\n",
        "print(\"t test: \", t)\n",
        "print(\"p-value\", p_value)\n"
      ],
      "metadata": {
        "colab": {
          "base_uri": "https://localhost:8080/"
        },
        "id": "Q6QbB9VSmXrz",
        "outputId": "f078b897-e020-4cd2-9b1d-495715e26b64"
      },
      "execution_count": null,
      "outputs": [
        {
          "output_type": "stream",
          "name": "stdout",
          "text": [
            "sample mean:  1.379\n",
            "standard deviation 0.3276668362156225\n",
            "t test:  1.7275098929989061\n",
            "p-value 0.05907291297396955\n"
          ]
        }
      ]
    },
    {
      "cell_type": "code",
      "source": [
        "#p-value for one-tailed\n",
        "\n",
        "#p_value = 1 - stats.t.cdf(t/U test statistic, df-1)\n",
        "p_value = 1 - stats.t.cdf(2.667, 16)\n",
        "print(\"p-value: \", p_value)"
      ],
      "metadata": {
        "colab": {
          "base_uri": "https://localhost:8080/"
        },
        "id": "09zsl3rSNTHN",
        "outputId": "8344c8cd-92bb-4852-92aa-3c262d67c699"
      },
      "execution_count": null,
      "outputs": [
        {
          "output_type": "stream",
          "name": "stdout",
          "text": [
            "p-value:  0.008436681242629196\n"
          ]
        }
      ]
    },
    {
      "cell_type": "code",
      "source": [
        "#p-value for two-tailed\n",
        "\n",
        "#p_value = 2* (1 - stats.t.cdf(t/U test statistic, df-1))\n",
        "p_value = 2* (1 - stats.t.cdf(1.694, 12))\n",
        "print(\"p-value: \", p_value)"
      ],
      "metadata": {
        "colab": {
          "base_uri": "https://localhost:8080/"
        },
        "id": "55JROXDFXpy8",
        "outputId": "711a6460-03d2-4ba7-d6ef-35d3d804d9be"
      },
      "execution_count": null,
      "outputs": [
        {
          "output_type": "stream",
          "name": "stdout",
          "text": [
            "p-value:  0.11603824329028645\n"
          ]
        }
      ]
    },
    {
      "cell_type": "code",
      "source": [
        "import math\n",
        "import scipy.stats as stats\n",
        "\n",
        "#one-tailed test\n",
        "\n",
        "samples_A = [1.23, 1.42, 1.41, 1.62, 1.55, 1.51, 1.60, 1.76]\n",
        "samples_B = [1.76, 1.41, 1.87, 1.49, 1.67, 1.81]\n",
        "\n",
        "sample_mean_A = 0\n",
        "sample_mean_B = 0\n",
        "for i in samples_A:\n",
        "    sample_mean_A += i\n",
        "sample_mean_A /= len(samples_A)\n",
        "\n",
        "for i in samples_B:\n",
        "    sample_mean_B += i\n",
        "sample_mean_B /= len(samples_B)\n",
        "\n",
        "sum_of_squares_A = 0\n",
        "for i in samples_A:\n",
        "    sum_of_squares_A += pow(i-sample_mean_A, 2)\n",
        "\n",
        "sum_of_squares_B = 0\n",
        "for i in samples_B:\n",
        "    sum_of_squares_B += pow(i-sample_mean_B, 2)\n",
        "\n",
        "#square variances\n",
        "s_square_A = sum_of_squares_A/(len(samples_A)-1)\n",
        "s_square_B = sum_of_squares_B/(len(samples_B)-1)\n",
        "\n",
        "#pooled variance\n",
        "pooled_variance = ((len(samples_A)-1)*s_square_A + (len(samples_B)-1)*s_square_B) / (len(samples_A) + len(samples_B) - 2)\n",
        "\n",
        "t = (sample_mean_B - sample_mean_A) / (math.sqrt(pooled_variance) * math.sqrt(1/len(samples_A) + 1/len(samples_B)))\n",
        "\n",
        "df = len(samples_A) + len(samples_B) - 2\n",
        "p_value = 1 - stats.t.cdf(t, df)\n",
        "\n",
        "print(\"A: \")\n",
        "print(\"sample mean: \", sample_mean_A)\n",
        "print(\"sample variance\", s_square_A)\n",
        "\n",
        "\n",
        "print(\"B: \")\n",
        "print(\"sample mean: \", sample_mean_B)\n",
        "print(\"sample variance\", s_square_B)\n",
        "\n",
        "print()\n",
        "\n",
        "print(\"pooled variance: \", pooled_variance)\n",
        "print(\"t statistic: \", t)\n",
        "print(\"p-value\", p_value)\n"
      ],
      "metadata": {
        "colab": {
          "base_uri": "https://localhost:8080/"
        },
        "id": "Ih5JExxPcrwE",
        "outputId": "31130dcd-e64f-4753-fc0c-debb8222372f"
      },
      "execution_count": null,
      "outputs": [
        {
          "output_type": "stream",
          "name": "stdout",
          "text": [
            "A: \n",
            "sample mean:  1.5125\n",
            "sample variance 0.025821428571428582\n",
            "B: \n",
            "sample mean:  1.6683333333333332\n",
            "sample variance 0.03353666666666669\n",
            "\n",
            "pooled variance:  0.029036111111111124\n",
            "t statistic:  1.693353916352362\n",
            "p-value 0.05808179675220204\n"
          ]
        }
      ]
    },
    {
      "cell_type": "code",
      "source": [
        "import scipy.stats as stats\n",
        "\n",
        "alpha = 0.05\n",
        "df1 = 15\n",
        "df2 = 9\n",
        "F_critical = stats.f.ppf(1 - alpha, df1, df2)\n",
        "\n",
        "print(F_critical)"
      ],
      "metadata": {
        "id": "6KS5DV0T3or7",
        "colab": {
          "base_uri": "https://localhost:8080/"
        },
        "outputId": "2015128a-73cf-486e-a3b2-9820c46783ab"
      },
      "execution_count": null,
      "outputs": [
        {
          "output_type": "stream",
          "name": "stdout",
          "text": [
            "3.0061019723688758\n"
          ]
        }
      ]
    },
    {
      "cell_type": "code",
      "source": [
        "import scipy.stats as stats\n",
        "\n",
        "# Degrees of freedom\n",
        "df1 = 15\n",
        "df2 = 9\n",
        "\n",
        "# Significance level for two-tailed test\n",
        "alpha = 0.05\n",
        "alpha_half = alpha / 2\n",
        "\n",
        "# Critical values for two-tailed F-test\n",
        "c1 = stats.f.ppf(alpha_half, df1, df2)\n",
        "c2 = stats.f.ppf(1 - alpha_half, df1, df2)\n",
        "\n",
        "print(f\"c1: {c1}, c2: {c2}\")\n"
      ],
      "metadata": {
        "colab": {
          "base_uri": "https://localhost:8080/"
        },
        "id": "ep8W34TYZ6dO",
        "outputId": "d475c1d7-f558-42d3-f6ba-2cf51ee90836"
      },
      "execution_count": null,
      "outputs": [
        {
          "output_type": "stream",
          "name": "stdout",
          "text": [
            "c1: 0.32023449093195755, c2: 3.7693572792968064\n"
          ]
        }
      ]
    },
    {
      "cell_type": "code",
      "source": [
        "import random\n",
        "import numpy as np\n",
        "from scipy.stats import chi2\n",
        "\n",
        "def chi_square_test(observed_frequencies, expected_frequency):\n",
        "    chi_square_statistic = np.sum((observed_frequencies - expected_frequency) ** 2 / expected_frequency)\n",
        "    degrees_of_freedom = len(observed_frequencies) - 1\n",
        "    critical_value = chi2.ppf(0.95, degrees_of_freedom)  # Significance level of 0.05\n",
        "    p_value = 1 - chi2.cdf(chi_square_statistic, degrees_of_freedom)\n",
        "    return chi_square_statistic, p_value, critical_value\n",
        "\n",
        "# Parameters\n",
        "k = 10  # Number of intervals\n",
        "n = 200  # Number of pseudo-random numbers\n",
        "\n",
        "# Generate pseudo-random numbers\n",
        "random_numbers = [random.random() for _ in range(n)]\n",
        "\n",
        "# Divide the unit interval into k intervals\n",
        "intervals = [i / k for i in range(k + 1)]\n",
        "\n",
        "# Count the number of random numbers falling into each interval\n",
        "observed_frequencies = np.histogram(random_numbers, bins=intervals)[0]\n",
        "\n",
        "# Calculate the expected frequency (assuming uniform distribution)\n",
        "expected_frequency = np.full(k, n / k)\n",
        "\n",
        "# Perform Chi-square test\n",
        "chi_square_statistic, p_value, critical_value = chi_square_test(observed_frequencies, expected_frequency)\n",
        "\n",
        "# Output results\n",
        "print(\"Observed frequencies:\", observed_frequencies)\n",
        "print(\"Expected frequency:\", expected_frequency)\n",
        "print(\"Chi-square statistic:\", chi_square_statistic)\n",
        "print(\"P-value:\", p_value)\n",
        "print(\"Critical value at 0.05 significance level:\", critical_value)\n",
        "if chi_square_statistic > critical_value:\n",
        "    print(\"Reject null hypothesis: The random numbers are not uniformly distributed.\")\n",
        "else:\n",
        "    print(\"Fail to reject null hypothesis: The random numbers are uniformly distributed.\")\n"
      ],
      "metadata": {
        "colab": {
          "base_uri": "https://localhost:8080/"
        },
        "id": "SkY8El7ejL1T",
        "outputId": "ee0b5fa9-c6d6-485f-99f9-109bae731a60"
      },
      "execution_count": null,
      "outputs": [
        {
          "output_type": "stream",
          "name": "stdout",
          "text": [
            "Observed frequencies: [19 21 19 16 15 20 28 19 18 25]\n",
            "Expected frequency: [20. 20. 20. 20. 20. 20. 20. 20. 20. 20.]\n",
            "Chi-square statistic: 6.9\n",
            "P-value: 0.647530136333676\n",
            "Critical value at 0.05 significance level: 16.918977604620448\n",
            "Fail to reject null hypothesis: The random numbers are uniformly distributed.\n"
          ]
        }
      ]
    },
    {
      "cell_type": "code",
      "source": [
        "import numpy as np\n",
        "from scipy.stats import chi2\n",
        "\n",
        "# Observed frequencies\n",
        "observed = np.array([391, 490, 580, 339])\n",
        "\n",
        "# Total sample size\n",
        "total_sample_size = np.sum(observed)\n",
        "\n",
        "# Expected frequencies (assuming uniform distribution)\n",
        "expected = np.array([total_sample_size * 0.2, total_sample_size * 0.3, total_sample_size * 0.3, total_sample_size * 0.2])\n",
        "\n",
        "# Perform Chi-square test\n",
        "chi2_stat = np.sum((observed - expected) ** 2 / expected)\n",
        "degrees_of_freedom = len(observed) - 1\n",
        "critical_value = chi2.ppf(0.99, degrees_of_freedom)  # Significance level of 0.01\n",
        "p_value = 1 - chi2.cdf(chi2_stat, degrees_of_freedom)\n",
        "\n",
        "# Output results\n",
        "print(\"Observed frequencies:\", observed)\n",
        "print(\"Expected frequencies:\", expected)\n",
        "print(\"Chi-square statistic:\", chi2_stat)\n",
        "print(\"Degrees of freedom:\", degrees_of_freedom)\n",
        "print(\"Critical value at 0.01 significance level:\", critical_value)\n",
        "print(\"P-value:\", p_value)\n",
        "\n",
        "if p_value < 0.01:\n",
        "    print(\"Reject null hypothesis: The random sample was not drawn from a uniform distribution on the interval [0, 1].\")\n",
        "else:\n",
        "    print(\"Fail to reject null hypothesis: The random sample was drawn from a uniform distribution on the interval [0, 1].\")\n"
      ],
      "metadata": {
        "colab": {
          "base_uri": "https://localhost:8080/"
        },
        "id": "hlvdXmPmkgHD",
        "outputId": "731b1b72-3711-4ec8-af41-54282410ecba"
      },
      "execution_count": null,
      "outputs": [
        {
          "output_type": "stream",
          "name": "stdout",
          "text": [
            "Observed frequencies: [391 490 580 339]\n",
            "Expected frequencies: [360. 540. 540. 360.]\n",
            "Chi-square statistic: 11.487037037037036\n",
            "Degrees of freedom: 3\n",
            "Critical value at 0.01 significance level: 11.344866730144373\n",
            "P-value: 0.009363780037183411\n",
            "Reject null hypothesis: The random sample was not drawn from a uniform distribution on the interval [0, 1].\n"
          ]
        }
      ]
    },
    {
      "cell_type": "code",
      "source": [
        "import numpy as np\n",
        "from scipy.stats import chi2, norm\n",
        "\n",
        "# Observed frequencies (from Table 10.4)\n",
        "observed_frequencies = np.array([60, 120, 180, 100, 40])\n",
        "\n",
        "# Total sample size\n",
        "n = np.sum(observed_frequencies)\n",
        "\n",
        "# Expected frequencies based on population parameters\n",
        "population_mean = 68\n",
        "population_std = 1\n",
        "expected_frequencies = np.array([\n",
        "    n * (norm.cdf(64, population_mean, population_std) - norm.cdf(60, population_mean, population_std)),\n",
        "    n * (norm.cdf(66, population_mean, population_std) - norm.cdf(64, population_mean, population_std)),\n",
        "    n * (norm.cdf(68, population_mean, population_std) - norm.cdf(66, population_mean, population_std)),\n",
        "    n * (norm.cdf(70, population_mean, population_std) - norm.cdf(68, population_mean, population_std)),\n",
        "    n * (norm.cdf(72, population_mean, population_std) - norm.cdf(70, population_mean, population_std))\n",
        "])\n",
        "\n",
        "# Perform Chi-square test\n",
        "chi2_stat = np.sum((observed_frequencies - expected_frequencies) ** 2 / expected_frequencies)\n",
        "degrees_of_freedom = len(observed_frequencies) - 1\n",
        "critical_value = chi2.ppf(0.95, degrees_of_freedom)  # Significance level of 0.05\n",
        "p_value = 1 - chi2.cdf(chi2_stat, degrees_of_freedom)\n",
        "\n",
        "# Output results\n",
        "print(\"Observed frequencies:\", observed_frequencies)\n",
        "print(\"Expected frequencies:\", expected_frequencies)\n",
        "print(\"Chi-square statistic:\", chi2_stat)\n",
        "print(\"Degrees of freedom:\", degrees_of_freedom)\n",
        "print(\"Critical value at 0.05 significance level:\", critical_value)\n",
        "print(\"P-value:\", p_value)\n",
        "\n",
        "if p_value < 0.05:\n",
        "    print(\"Reject null hypothesis: The heights of the 500 men in the neighborhood are not drawn from the same population distribution as all men in the city.\")\n",
        "else:\n",
        "    print(\"Fail to reject null hypothesis: The heights of the 500 men in the neighborhood are drawn from the same population distribution as all men in the city.\")\n"
      ],
      "metadata": {
        "colab": {
          "base_uri": "https://localhost:8080/"
        },
        "id": "WFu_7Y6sppfU",
        "outputId": "ef9ff144-8db6-4e8d-8697-dcea54030b2c"
      },
      "execution_count": null,
      "outputs": [
        {
          "output_type": "stream",
          "name": "stdout",
          "text": [
            "Observed frequencies: [ 60 120 180 100  40]\n",
            "Expected frequencies: [1.58356209e-02 1.13592304e+01 2.38624934e+02 2.38624934e+02\n",
            " 1.13592304e+01]\n",
            "Chi-square statistic: 228421.79085315848\n",
            "Degrees of freedom: 4\n",
            "Critical value at 0.05 significance level: 9.487729036781154\n",
            "P-value: 0.0\n",
            "Reject null hypothesis: The heights of the 500 men in the neighborhood are not drawn from the same population distribution as all men in the city.\n"
          ]
        }
      ]
    },
    {
      "cell_type": "code",
      "source": [
        "import numpy as np\n",
        "from scipy.stats import chi2\n",
        "\n",
        "# Observed frequencies\n",
        "observed = np.array([52, 60, 55, 18, 8, 7])\n",
        "\n",
        "# Total sample size\n",
        "n = np.sum(observed)\n",
        "\n",
        "# Estimated lambda for Poisson distribution\n",
        "lambda_estimate = np.sum(observed * np.arange(len(observed))) / n\n",
        "\n",
        "# Expected frequencies using Poisson distribution\n",
        "expected = np.array([n * (lambda_estimate**k * np.exp(-lambda_estimate)) / np.math.factorial(k) for k in range(len(observed))])\n",
        "\n",
        "# Perform Chi-square test\n",
        "chi2_stat = np.sum((observed - expected)**2 / expected)\n",
        "degrees_of_freedom = len(observed) - 1\n",
        "critical_value = chi2.ppf(0.95, degrees_of_freedom)  # Significance level of 0.05\n",
        "p_value = 1 - chi2.cdf(chi2_stat, degrees_of_freedom)\n",
        "\n",
        "# Output results\n",
        "print(\"Observed frequencies:\", observed)\n",
        "print(\"Expected frequencies:\", expected)\n",
        "print(\"Chi-square statistic:\", chi2_stat)\n",
        "print(\"Degrees of freedom:\", degrees_of_freedom)\n",
        "print(\"Critical value at 0.05 significance level:\", critical_value)\n",
        "print(\"P-value:\", p_value)\n",
        "\n",
        "if p_value < 0.05:\n",
        "    print(\"Reject null hypothesis: The observed data does not follow a Poisson distribution.\")\n",
        "else:\n",
        "    print(\"Fail to reject null hypothesis: The observed data follows a Poisson distribution.\")\n"
      ],
      "metadata": {
        "colab": {
          "base_uri": "https://localhost:8080/"
        },
        "id": "6EazwHyBwCQs",
        "outputId": "4d9330b2-8bdc-448f-c591-96184d76d5b9"
      },
      "execution_count": null,
      "outputs": [
        {
          "output_type": "stream",
          "name": "stdout",
          "text": [
            "Observed frequencies: [52 60 55 18  8  7]\n",
            "Expected frequencies: [46.68007278 67.9195059  49.41144054 23.96454866  8.71710458  2.53667743]\n",
            "Chi-square statistic: 11.558590077782295\n",
            "Degrees of freedom: 5\n",
            "Critical value at 0.05 significance level: 11.070497693516351\n",
            "P-value: 0.04136314433169819\n",
            "Reject null hypothesis: The observed data does not follow a Poisson distribution.\n"
          ]
        },
        {
          "output_type": "stream",
          "name": "stderr",
          "text": [
            "<ipython-input-12-1ae88a565f14>:14: DeprecationWarning: `np.math` is a deprecated alias for the standard library `math` module (Deprecated Numpy 1.25). Replace usages of `np.math` with `math`\n",
            "  expected = np.array([n * (lambda_estimate**k * np.exp(-lambda_estimate)) / np.math.factorial(k) for k in range(len(observed))])\n"
          ]
        }
      ]
    },
    {
      "cell_type": "code",
      "source": [
        "import numpy as np\n",
        "from scipy.stats import kstest, expon\n",
        "\n",
        "# Observed data\n",
        "data = np.array([0.91, 1.22, 0.90, 0.86, 0.16, 2.02, 1.62, 0.56, 1.28, 0.06,\n",
        "                 1.16, 0.22, 3.65, 3.41, 0.61, 0.31, 1.75, 0.89, 0.76, 0.05,\n",
        "                 1.28, 0.22, 2.33, 1.45, 1.22, 0.55, 1.59, 1.73, 0.49, 0.53,\n",
        "                 0.50, 0.24, 0.19, 0.29, 0.74, 0.91, 0.04, 1.41, 0.07, 0.51,\n",
        "                 1.27, 0.22, 0.37, 0.06, 0.79, 1.28, 0.57, 1.53, 1.86, 1.28])\n",
        "\n",
        "# Perform Kolmogorov-Smirnov test\n",
        "kstest_statistic, p_value = kstest(data, 'expon')\n",
        "\n",
        "# Output results\n",
        "print(\"Kolmogorov-Smirnov test statistic:\", kstest_statistic)\n",
        "print(\"P-value:\", p_value)\n",
        "\n",
        "if p_value < 0.05:\n",
        "    print(\"Reject null hypothesis: The observed data does not follow an exponential distribution.\")\n",
        "else:\n",
        "    print(\"Fail to reject null hypothesis: The observed data follows an exponential distribution.\")\n"
      ],
      "metadata": {
        "colab": {
          "base_uri": "https://localhost:8080/"
        },
        "id": "iLYtcozlz_lD",
        "outputId": "7958ba7a-f52a-4b3c-82ba-889904572674"
      },
      "execution_count": null,
      "outputs": [
        {
          "output_type": "stream",
          "name": "stdout",
          "text": [
            "Kolmogorov-Smirnov test statistic: 0.10737360581558386\n",
            "P-value: 0.5745095789213306\n",
            "Fail to reject null hypothesis: The observed data follows an exponential distribution.\n"
          ]
        }
      ]
    },
    {
      "cell_type": "code",
      "source": [
        "import numpy as np\n",
        "from scipy.stats import chi2_contingency\n",
        "\n",
        "# Observed frequencies\n",
        "observed = np.array([[117, 60, 50],\n",
        "                     [130, 30, 91]])\n",
        "\n",
        "# Perform Chi-square test for independence\n",
        "chi2_stat, p_value, _, _ = chi2_contingency(observed)\n",
        "\n",
        "# Output results\n",
        "print(\"Chi-square statistic:\", chi2_stat)\n",
        "print(\"P-value:\", p_value)\n",
        "\n",
        "if p_value < 0.05:\n",
        "    print(\"Reject null hypothesis: A child's answer to the survey question is dependent on his or her sex.\")\n",
        "else:\n",
        "    print(\"Fail to reject null hypothesis: A child's answer to the survey question is independent of his or her sex.\")\n"
      ],
      "metadata": {
        "colab": {
          "base_uri": "https://localhost:8080/"
        },
        "id": "8BugV5Aw2eb4",
        "outputId": "042bafe0-b30d-455d-b9ba-757e6a2caa42"
      },
      "execution_count": null,
      "outputs": [
        {
          "output_type": "stream",
          "name": "stdout",
          "text": [
            "Chi-square statistic: 21.45526337376018\n",
            "P-value: 2.1930511164747993e-05\n",
            "Reject null hypothesis: A child's answer to the survey question is dependent on his or her sex.\n"
          ]
        }
      ]
    },
    {
      "cell_type": "code",
      "source": [
        "import numpy as np\n",
        "from scipy.stats import chi2_contingency\n",
        "\n",
        "# Observed frequencies\n",
        "observed = np.array([[12, 28],\n",
        "                     [8, 52]])\n",
        "\n",
        "# Perform Chi-square test for independence\n",
        "chi2_stat, p_value, _, _ = chi2_contingency(observed)\n",
        "\n",
        "# Output results\n",
        "print(\"Chi-square statistic:\", chi2_stat)\n",
        "print(\"P-value:\", p_value)\n",
        "\n",
        "if p_value < 0.05:\n",
        "    print(\"Reject null hypothesis: There is a relationship between a man's age and whether he wears a mustache.\")\n",
        "else:\n",
        "    print(\"Fail to reject null hypothesis: There is no relationship between a man's age and whether he wears a mustache.\")\n"
      ],
      "metadata": {
        "colab": {
          "base_uri": "https://localhost:8080/"
        },
        "id": "ob5e7lh13TA_",
        "outputId": "d390d698-fa7d-4482-a4a1-dcac01699b99"
      },
      "execution_count": null,
      "outputs": [
        {
          "output_type": "stream",
          "name": "stdout",
          "text": [
            "Chi-square statistic: 3.1901041666666665\n",
            "P-value: 0.0740852907571649\n",
            "Fail to reject null hypothesis: There is no relationship between a man's age and whether he wears a mustache.\n"
          ]
        }
      ]
    },
    {
      "cell_type": "code",
      "source": [
        "import numpy as np\n",
        "from scipy.stats import chi2_contingency\n",
        "\n",
        "# Observed frequencies\n",
        "observed = np.array([[82, 89, 54, 19],\n",
        "                     [13, 27, 7, 9]])\n",
        "\n",
        "# Perform Chi-square test for independence\n",
        "chi2_stat, p_value, _, _ = chi2_contingency(observed)\n",
        "\n",
        "# Output results\n",
        "print(\"Chi-square statistic:\", chi2_stat)\n",
        "print(\"P-value:\", p_value)\n",
        "\n",
        "if p_value < 0.05:\n",
        "    print(\"Reject null hypothesis: The classifications of blood types and Rh factors are not independent.\")\n",
        "else:\n",
        "    print(\"Fail to reject null hypothesis: The classifications of blood types and Rh factors are independent.\")\n"
      ],
      "metadata": {
        "id": "UxccRNF35Eb6",
        "outputId": "6bc61ff9-a9a9-46b9-ffc4-70d6cc326325",
        "colab": {
          "base_uri": "https://localhost:8080/"
        }
      },
      "execution_count": null,
      "outputs": [
        {
          "output_type": "stream",
          "name": "stdout",
          "text": [
            "Chi-square statistic: 8.603698496641742\n",
            "P-value: 0.035051452790187024\n",
            "Reject null hypothesis: The classifications of blood types and Rh factors are not independent.\n"
          ]
        }
      ]
    }
  ]
}